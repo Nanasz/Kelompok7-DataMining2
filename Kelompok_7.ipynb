{
  "cells": [
    {
      "cell_type": "markdown",
      "metadata": {
        "id": "view-in-github",
        "colab_type": "text"
      },
      "source": [
        "<a href=\"https://colab.research.google.com/github/Nanasz/Kelompok7-DataMining2/blob/main/Kelompok_7.ipynb\" target=\"_parent\"><img src=\"https://colab.research.google.com/assets/colab-badge.svg\" alt=\"Open In Colab\"/></a>"
      ]
    },
    {
      "cell_type": "markdown",
      "metadata": {
        "id": "tbYCgspywHob"
      },
      "source": [
        "#**CASE STUDY 02 MixITup**"
      ]
    },
    {
      "cell_type": "code",
      "execution_count": null,
      "metadata": {
        "id": "U5FNip42SH3E"
      },
      "outputs": [],
      "source": [
        "import numpy as np\n",
        "import pandas as pd\n",
        "import matplotlib as mp\n",
        "import seaborn as sns\n",
        "import matplotlib.pyplot as plt\n",
        "import matplotlib.cm as cm"
      ]
    },
    {
      "cell_type": "markdown",
      "metadata": {
        "id": "J-92SQXJwi9Q"
      },
      "source": [
        "##Load Data Excel"
      ]
    },
    {
      "cell_type": "code",
      "execution_count": null,
      "metadata": {
        "colab": {
          "base_uri": "https://localhost:8080/"
        },
        "id": "DrbNUvujrijr",
        "outputId": "409cd9cc-c923-4462-bdac-efb28e603390"
      },
      "outputs": [
        {
          "output_type": "stream",
          "name": "stdout",
          "text": [
            "Installing the required modules\n",
            "Looking in indexes: https://pypi.org/simple, https://us-python.pkg.dev/colab-wheels/public/simple/\n",
            "Collecting umap-learn\n",
            "  Downloading umap-learn-0.5.3.tar.gz (88 kB)\n",
            "\u001b[K     |████████████████████████████████| 88 kB 3.5 MB/s \n",
            "\u001b[?25hRequirement already satisfied: numpy>=1.17 in /usr/local/lib/python3.7/dist-packages (from umap-learn) (1.21.6)\n",
            "Requirement already satisfied: scikit-learn>=0.22 in /usr/local/lib/python3.7/dist-packages (from umap-learn) (1.0.2)\n",
            "Requirement already satisfied: scipy>=1.0 in /usr/local/lib/python3.7/dist-packages (from umap-learn) (1.7.3)\n",
            "Requirement already satisfied: numba>=0.49 in /usr/local/lib/python3.7/dist-packages (from umap-learn) (0.56.2)\n",
            "Collecting pynndescent>=0.5\n",
            "  Downloading pynndescent-0.5.7.tar.gz (1.1 MB)\n",
            "\u001b[K     |████████████████████████████████| 1.1 MB 36.4 MB/s \n",
            "\u001b[?25hRequirement already satisfied: tqdm in /usr/local/lib/python3.7/dist-packages (from umap-learn) (4.64.1)\n",
            "Requirement already satisfied: importlib-metadata in /usr/local/lib/python3.7/dist-packages (from numba>=0.49->umap-learn) (5.0.0)\n",
            "Requirement already satisfied: setuptools<60 in /usr/local/lib/python3.7/dist-packages (from numba>=0.49->umap-learn) (57.4.0)\n",
            "Requirement already satisfied: llvmlite<0.40,>=0.39.0dev0 in /usr/local/lib/python3.7/dist-packages (from numba>=0.49->umap-learn) (0.39.1)\n",
            "Requirement already satisfied: joblib>=0.11 in /usr/local/lib/python3.7/dist-packages (from pynndescent>=0.5->umap-learn) (1.2.0)\n",
            "Requirement already satisfied: threadpoolctl>=2.0.0 in /usr/local/lib/python3.7/dist-packages (from scikit-learn>=0.22->umap-learn) (3.1.0)\n",
            "Requirement already satisfied: typing-extensions>=3.6.4 in /usr/local/lib/python3.7/dist-packages (from importlib-metadata->numba>=0.49->umap-learn) (4.1.1)\n",
            "Requirement already satisfied: zipp>=0.5 in /usr/local/lib/python3.7/dist-packages (from importlib-metadata->numba>=0.49->umap-learn) (3.8.1)\n",
            "Building wheels for collected packages: umap-learn, pynndescent\n",
            "  Building wheel for umap-learn (setup.py) ... \u001b[?25l\u001b[?25hdone\n",
            "  Created wheel for umap-learn: filename=umap_learn-0.5.3-py3-none-any.whl size=82829 sha256=71fd26a55926794b8e7c66fa8407d52b0f38e783c928e11932c9f75b6766f770\n",
            "  Stored in directory: /root/.cache/pip/wheels/b3/52/a5/1fd9e3e76a7ab34f134c07469cd6f16e27ef3a37aeff1fe821\n",
            "  Building wheel for pynndescent (setup.py) ... \u001b[?25l\u001b[?25hdone\n",
            "  Created wheel for pynndescent: filename=pynndescent-0.5.7-py3-none-any.whl size=54286 sha256=5afa90ae8ad4495d994d0d588dc7f3b2605a4dcd3b7a59ec606c8dfc8aeee7ce\n",
            "  Stored in directory: /root/.cache/pip/wheels/7f/2a/f8/7bd5dcec71bd5c669f6f574db3113513696b98f3f9b51f496c\n",
            "Successfully built umap-learn pynndescent\n",
            "Installing collected packages: pynndescent, umap-learn\n",
            "Successfully installed pynndescent-0.5.7 umap-learn-0.5.3\n",
            "--2022-10-12 01:30:12--  https://raw.githubusercontent.com/taudata-indonesia/eLearning/master/tau_unsup.py\n",
            "Resolving raw.githubusercontent.com (raw.githubusercontent.com)... 185.199.110.133, 185.199.111.133, 185.199.108.133, ...\n",
            "Connecting to raw.githubusercontent.com (raw.githubusercontent.com)|185.199.110.133|:443... connected.\n",
            "HTTP request sent, awaiting response... 200 OK\n",
            "Length: 17387 (17K) [text/plain]\n",
            "Saving to: ‘tau_unsup.py’\n",
            "\n",
            "tau_unsup.py        100%[===================>]  16.98K  --.-KB/s    in 0s      \n",
            "\n",
            "2022-10-12 01:30:12 (37.7 MB/s) - ‘tau_unsup.py’ saved [17387/17387]\n",
            "\n"
          ]
        }
      ],
      "source": [
        "import warnings; warnings.simplefilter('ignore')\n",
        "\n",
        "try:\n",
        "    import google.colab; IN_COLAB = True\n",
        "    print(\"Installing the required modules\")\n",
        "    !pip install --upgrade umap-learn\n",
        "    !wget https://raw.githubusercontent.com/taudata-indonesia/eLearning/master/tau_unsup.py\n",
        "except:\n",
        "    IN_COLAB = False\n",
        "    print(\"Running the code locally, please make sure all the python module versions agree with colab environment and all data/assets downloaded\")"
      ]
    },
    {
      "cell_type": "code",
      "execution_count": null,
      "metadata": {
        "colab": {
          "base_uri": "https://localhost:8080/"
        },
        "id": "nQ5Aw5WIoIIr",
        "outputId": "fe8c8c29-e976-4155-bbe8-0423fa9f6c90"
      },
      "outputs": [
        {
          "output_type": "stream",
          "name": "stdout",
          "text": [
            "--2022-10-12 01:30:13--  https://raw.githubusercontent.com/Nanasz/Kelompok7-DataMining2/main/Data_Studi_Kasus_2.xlsx\n",
            "Resolving raw.githubusercontent.com (raw.githubusercontent.com)... 185.199.108.133, 185.199.109.133, 185.199.110.133, ...\n",
            "Connecting to raw.githubusercontent.com (raw.githubusercontent.com)|185.199.108.133|:443... connected.\n",
            "HTTP request sent, awaiting response... 200 OK\n",
            "Length: 22293 (22K) [application/octet-stream]\n",
            "Saving to: ‘data/Data_Studi_Kasus_2.xlsx’\n",
            "\n",
            "Data_Studi_Kasus_2. 100%[===================>]  21.77K  --.-KB/s    in 0.001s  \n",
            "\n",
            "2022-10-12 01:30:13 (30.8 MB/s) - ‘data/Data_Studi_Kasus_2.xlsx’ saved [22293/22293]\n",
            "\n"
          ]
        },
        {
          "output_type": "execute_result",
          "data": {
            "text/plain": [
              "(200, 10)"
            ]
          },
          "metadata": {},
          "execution_count": 9
        }
      ],
      "source": [
        "# Running Locally, yakinkan \"file_\" berada di folder \"data\"\n",
        "try :\n",
        "    data = pd.read_excel(\"data/Data_Studi_Kasus_2.xlsx\", sheet_name=0)\n",
        "except: # Running in Google Colab\n",
        "    !mkdir data\n",
        "    !wget -P data/ https://raw.githubusercontent.com/Nanasz/Kelompok7-DataMining2/main/Data_Studi_Kasus_2.xlsx\n",
        "    data = pd.read_excel(\"data/Data_Studi_Kasus_2.xlsx\", sheet_name=0)\n",
        "data.shape"
      ]
    },
    {
      "cell_type": "code",
      "execution_count": null,
      "metadata": {
        "colab": {
          "base_uri": "https://localhost:8080/",
          "height": 424
        },
        "id": "gduX-UNIqMEm",
        "outputId": "f09fa7f8-f281-47ee-aa8e-dcd8e9b964ec"
      },
      "outputs": [
        {
          "output_type": "execute_result",
          "data": {
            "text/plain": [
              "      ID Jenis Kelamin Umur  Pendapatan-per-bulan  skor-pengeluaran Menikah  \\\n",
              "0    101        Wanita   49              13114754                52       1   \n",
              "1    102        Wanita   32              33606557                86       1   \n",
              "2    103          Pria   51              15983606                41       1   \n",
              "3    104          Pria   19              12704918                55       0   \n",
              "4    105        Wanita   38              20081967                42       1   \n",
              "..   ...           ...  ...                   ...               ...     ...   \n",
              "195  296          Pria   31               4098360                73       1   \n",
              "196  297          Pria   57              15983606                51       1   \n",
              "197  298        Wanita   35              43032786                79       1   \n",
              "198  299        Wanita   23               1229508                94       1   \n",
              "199  300          Pria   50               1639344                14       1   \n",
              "\n",
              "          Kota  Promo HariFav  FavFlavor  \n",
              "0      Jakarta    1.0   Sabtu          2  \n",
              "1        Depok    1.0  Minggu          6  \n",
              "2      Jakarta    2.0  Minggu          3  \n",
              "3      Jakarta    1.0    Rabu          7  \n",
              "4      Jakarta    2.0   Senin          8  \n",
              "..         ...    ...     ...        ...  \n",
              "195      Depok    1.0   Senin          0  \n",
              "196    Jakarta    1.0  Minggu          5  \n",
              "197      Depok    1.0   Senin          7  \n",
              "198      Depok    0.0  Selasa          0  \n",
              "199  Tangerang    3.0  Minggu          6  \n",
              "\n",
              "[200 rows x 10 columns]"
            ],
            "text/html": [
              "\n",
              "  <div id=\"df-450ddc82-811f-4c14-a209-d82f2ef8d836\">\n",
              "    <div class=\"colab-df-container\">\n",
              "      <div>\n",
              "<style scoped>\n",
              "    .dataframe tbody tr th:only-of-type {\n",
              "        vertical-align: middle;\n",
              "    }\n",
              "\n",
              "    .dataframe tbody tr th {\n",
              "        vertical-align: top;\n",
              "    }\n",
              "\n",
              "    .dataframe thead th {\n",
              "        text-align: right;\n",
              "    }\n",
              "</style>\n",
              "<table border=\"1\" class=\"dataframe\">\n",
              "  <thead>\n",
              "    <tr style=\"text-align: right;\">\n",
              "      <th></th>\n",
              "      <th>ID</th>\n",
              "      <th>Jenis Kelamin</th>\n",
              "      <th>Umur</th>\n",
              "      <th>Pendapatan-per-bulan</th>\n",
              "      <th>skor-pengeluaran</th>\n",
              "      <th>Menikah</th>\n",
              "      <th>Kota</th>\n",
              "      <th>Promo</th>\n",
              "      <th>HariFav</th>\n",
              "      <th>FavFlavor</th>\n",
              "    </tr>\n",
              "  </thead>\n",
              "  <tbody>\n",
              "    <tr>\n",
              "      <th>0</th>\n",
              "      <td>101</td>\n",
              "      <td>Wanita</td>\n",
              "      <td>49</td>\n",
              "      <td>13114754</td>\n",
              "      <td>52</td>\n",
              "      <td>1</td>\n",
              "      <td>Jakarta</td>\n",
              "      <td>1.0</td>\n",
              "      <td>Sabtu</td>\n",
              "      <td>2</td>\n",
              "    </tr>\n",
              "    <tr>\n",
              "      <th>1</th>\n",
              "      <td>102</td>\n",
              "      <td>Wanita</td>\n",
              "      <td>32</td>\n",
              "      <td>33606557</td>\n",
              "      <td>86</td>\n",
              "      <td>1</td>\n",
              "      <td>Depok</td>\n",
              "      <td>1.0</td>\n",
              "      <td>Minggu</td>\n",
              "      <td>6</td>\n",
              "    </tr>\n",
              "    <tr>\n",
              "      <th>2</th>\n",
              "      <td>103</td>\n",
              "      <td>Pria</td>\n",
              "      <td>51</td>\n",
              "      <td>15983606</td>\n",
              "      <td>41</td>\n",
              "      <td>1</td>\n",
              "      <td>Jakarta</td>\n",
              "      <td>2.0</td>\n",
              "      <td>Minggu</td>\n",
              "      <td>3</td>\n",
              "    </tr>\n",
              "    <tr>\n",
              "      <th>3</th>\n",
              "      <td>104</td>\n",
              "      <td>Pria</td>\n",
              "      <td>19</td>\n",
              "      <td>12704918</td>\n",
              "      <td>55</td>\n",
              "      <td>0</td>\n",
              "      <td>Jakarta</td>\n",
              "      <td>1.0</td>\n",
              "      <td>Rabu</td>\n",
              "      <td>7</td>\n",
              "    </tr>\n",
              "    <tr>\n",
              "      <th>4</th>\n",
              "      <td>105</td>\n",
              "      <td>Wanita</td>\n",
              "      <td>38</td>\n",
              "      <td>20081967</td>\n",
              "      <td>42</td>\n",
              "      <td>1</td>\n",
              "      <td>Jakarta</td>\n",
              "      <td>2.0</td>\n",
              "      <td>Senin</td>\n",
              "      <td>8</td>\n",
              "    </tr>\n",
              "    <tr>\n",
              "      <th>...</th>\n",
              "      <td>...</td>\n",
              "      <td>...</td>\n",
              "      <td>...</td>\n",
              "      <td>...</td>\n",
              "      <td>...</td>\n",
              "      <td>...</td>\n",
              "      <td>...</td>\n",
              "      <td>...</td>\n",
              "      <td>...</td>\n",
              "      <td>...</td>\n",
              "    </tr>\n",
              "    <tr>\n",
              "      <th>195</th>\n",
              "      <td>296</td>\n",
              "      <td>Pria</td>\n",
              "      <td>31</td>\n",
              "      <td>4098360</td>\n",
              "      <td>73</td>\n",
              "      <td>1</td>\n",
              "      <td>Depok</td>\n",
              "      <td>1.0</td>\n",
              "      <td>Senin</td>\n",
              "      <td>0</td>\n",
              "    </tr>\n",
              "    <tr>\n",
              "      <th>196</th>\n",
              "      <td>297</td>\n",
              "      <td>Pria</td>\n",
              "      <td>57</td>\n",
              "      <td>15983606</td>\n",
              "      <td>51</td>\n",
              "      <td>1</td>\n",
              "      <td>Jakarta</td>\n",
              "      <td>1.0</td>\n",
              "      <td>Minggu</td>\n",
              "      <td>5</td>\n",
              "    </tr>\n",
              "    <tr>\n",
              "      <th>197</th>\n",
              "      <td>298</td>\n",
              "      <td>Wanita</td>\n",
              "      <td>35</td>\n",
              "      <td>43032786</td>\n",
              "      <td>79</td>\n",
              "      <td>1</td>\n",
              "      <td>Depok</td>\n",
              "      <td>1.0</td>\n",
              "      <td>Senin</td>\n",
              "      <td>7</td>\n",
              "    </tr>\n",
              "    <tr>\n",
              "      <th>198</th>\n",
              "      <td>299</td>\n",
              "      <td>Wanita</td>\n",
              "      <td>23</td>\n",
              "      <td>1229508</td>\n",
              "      <td>94</td>\n",
              "      <td>1</td>\n",
              "      <td>Depok</td>\n",
              "      <td>0.0</td>\n",
              "      <td>Selasa</td>\n",
              "      <td>0</td>\n",
              "    </tr>\n",
              "    <tr>\n",
              "      <th>199</th>\n",
              "      <td>300</td>\n",
              "      <td>Pria</td>\n",
              "      <td>50</td>\n",
              "      <td>1639344</td>\n",
              "      <td>14</td>\n",
              "      <td>1</td>\n",
              "      <td>Tangerang</td>\n",
              "      <td>3.0</td>\n",
              "      <td>Minggu</td>\n",
              "      <td>6</td>\n",
              "    </tr>\n",
              "  </tbody>\n",
              "</table>\n",
              "<p>200 rows × 10 columns</p>\n",
              "</div>\n",
              "      <button class=\"colab-df-convert\" onclick=\"convertToInteractive('df-450ddc82-811f-4c14-a209-d82f2ef8d836')\"\n",
              "              title=\"Convert this dataframe to an interactive table.\"\n",
              "              style=\"display:none;\">\n",
              "        \n",
              "  <svg xmlns=\"http://www.w3.org/2000/svg\" height=\"24px\"viewBox=\"0 0 24 24\"\n",
              "       width=\"24px\">\n",
              "    <path d=\"M0 0h24v24H0V0z\" fill=\"none\"/>\n",
              "    <path d=\"M18.56 5.44l.94 2.06.94-2.06 2.06-.94-2.06-.94-.94-2.06-.94 2.06-2.06.94zm-11 1L8.5 8.5l.94-2.06 2.06-.94-2.06-.94L8.5 2.5l-.94 2.06-2.06.94zm10 10l.94 2.06.94-2.06 2.06-.94-2.06-.94-.94-2.06-.94 2.06-2.06.94z\"/><path d=\"M17.41 7.96l-1.37-1.37c-.4-.4-.92-.59-1.43-.59-.52 0-1.04.2-1.43.59L10.3 9.45l-7.72 7.72c-.78.78-.78 2.05 0 2.83L4 21.41c.39.39.9.59 1.41.59.51 0 1.02-.2 1.41-.59l7.78-7.78 2.81-2.81c.8-.78.8-2.07 0-2.86zM5.41 20L4 18.59l7.72-7.72 1.47 1.35L5.41 20z\"/>\n",
              "  </svg>\n",
              "      </button>\n",
              "      \n",
              "  <style>\n",
              "    .colab-df-container {\n",
              "      display:flex;\n",
              "      flex-wrap:wrap;\n",
              "      gap: 12px;\n",
              "    }\n",
              "\n",
              "    .colab-df-convert {\n",
              "      background-color: #E8F0FE;\n",
              "      border: none;\n",
              "      border-radius: 50%;\n",
              "      cursor: pointer;\n",
              "      display: none;\n",
              "      fill: #1967D2;\n",
              "      height: 32px;\n",
              "      padding: 0 0 0 0;\n",
              "      width: 32px;\n",
              "    }\n",
              "\n",
              "    .colab-df-convert:hover {\n",
              "      background-color: #E2EBFA;\n",
              "      box-shadow: 0px 1px 2px rgba(60, 64, 67, 0.3), 0px 1px 3px 1px rgba(60, 64, 67, 0.15);\n",
              "      fill: #174EA6;\n",
              "    }\n",
              "\n",
              "    [theme=dark] .colab-df-convert {\n",
              "      background-color: #3B4455;\n",
              "      fill: #D2E3FC;\n",
              "    }\n",
              "\n",
              "    [theme=dark] .colab-df-convert:hover {\n",
              "      background-color: #434B5C;\n",
              "      box-shadow: 0px 1px 3px 1px rgba(0, 0, 0, 0.15);\n",
              "      filter: drop-shadow(0px 1px 2px rgba(0, 0, 0, 0.3));\n",
              "      fill: #FFFFFF;\n",
              "    }\n",
              "  </style>\n",
              "\n",
              "      <script>\n",
              "        const buttonEl =\n",
              "          document.querySelector('#df-450ddc82-811f-4c14-a209-d82f2ef8d836 button.colab-df-convert');\n",
              "        buttonEl.style.display =\n",
              "          google.colab.kernel.accessAllowed ? 'block' : 'none';\n",
              "\n",
              "        async function convertToInteractive(key) {\n",
              "          const element = document.querySelector('#df-450ddc82-811f-4c14-a209-d82f2ef8d836');\n",
              "          const dataTable =\n",
              "            await google.colab.kernel.invokeFunction('convertToInteractive',\n",
              "                                                     [key], {});\n",
              "          if (!dataTable) return;\n",
              "\n",
              "          const docLinkHtml = 'Like what you see? Visit the ' +\n",
              "            '<a target=\"_blank\" href=https://colab.research.google.com/notebooks/data_table.ipynb>data table notebook</a>'\n",
              "            + ' to learn more about interactive tables.';\n",
              "          element.innerHTML = '';\n",
              "          dataTable['output_type'] = 'display_data';\n",
              "          await google.colab.output.renderOutput(dataTable, element);\n",
              "          const docLink = document.createElement('div');\n",
              "          docLink.innerHTML = docLinkHtml;\n",
              "          element.appendChild(docLink);\n",
              "        }\n",
              "      </script>\n",
              "    </div>\n",
              "  </div>\n",
              "  "
            ]
          },
          "metadata": {},
          "execution_count": 10
        }
      ],
      "source": [
        "data"
      ]
    },
    {
      "cell_type": "code",
      "execution_count": null,
      "metadata": {
        "id": "UzCLqbMJq-ri"
      },
      "outputs": [],
      "source": [
        "# Importing Modules untuk Notebook ini\n",
        "import warnings; warnings.simplefilter('ignore')\n",
        "import umap, numpy as np, tau_unsup as tau, matplotlib.pyplot as plt, pandas as pd, seaborn as sns\n",
        "from sklearn import cluster, datasets\n",
        "from sklearn.metrics import silhouette_score as siluet\n",
        "from sklearn.metrics.cluster import homogeneity_score as purity\n",
        "from sklearn.metrics import normalized_mutual_info_score as NMI \n",
        "\n",
        "sns.set(style=\"ticks\", color_codes=True)\n",
        "random_state = 99"
      ]
    },
    {
      "cell_type": "markdown",
      "source": [
        "## Mengatasi MV"
      ],
      "metadata": {
        "id": "z3yxj9b_zq68"
      }
    },
    {
      "cell_type": "code",
      "source": [
        "data.isna().sum()"
      ],
      "metadata": {
        "colab": {
          "base_uri": "https://localhost:8080/"
        },
        "id": "Vuw7Jqwpzxry",
        "outputId": "e280b03e-98e6-4ca6-c661-9bf7012045f6"
      },
      "execution_count": null,
      "outputs": [
        {
          "output_type": "execute_result",
          "data": {
            "text/plain": [
              "ID                       0\n",
              "Jenis Kelamin            4\n",
              "Umur                     0\n",
              "Pendapatan-per-bulan     0\n",
              "skor-pengeluaran         0\n",
              "Menikah                 12\n",
              "Kota                     0\n",
              "Promo                    6\n",
              "HariFav                  0\n",
              "FavFlavor                0\n",
              "dtype: int64"
            ]
          },
          "metadata": {},
          "execution_count": 12
        }
      ]
    },
    {
      "cell_type": "markdown",
      "source": [
        "kita tahu bahwa dalam dataset semua kolom tidak ada nilai yang kosong kecuali kolom Jenis Kelamin dengan 4 missing value, kolom Menikah dengan 12 missing value dan kolom Promo dengan 6 missing value"
      ],
      "metadata": {
        "id": "WKqD4cuA29Aw"
      }
    },
    {
      "cell_type": "code",
      "source": [
        "# Mengatasi MV\n",
        "data.fillna(0, inplace = True)"
      ],
      "metadata": {
        "id": "0of-o58gy6jZ"
      },
      "execution_count": null,
      "outputs": []
    },
    {
      "cell_type": "code",
      "source": [
        "data"
      ],
      "metadata": {
        "colab": {
          "base_uri": "https://localhost:8080/",
          "height": 424
        },
        "id": "rtj0mWu60TUH",
        "outputId": "6a70ddba-0a42-4dc6-a4a6-1edd38bfbf86"
      },
      "execution_count": null,
      "outputs": [
        {
          "output_type": "execute_result",
          "data": {
            "text/plain": [
              "      ID Jenis Kelamin Umur  Pendapatan-per-bulan  skor-pengeluaran Menikah  \\\n",
              "0    101        Wanita   49              13114754                52       1   \n",
              "1    102        Wanita   32              33606557                86       1   \n",
              "2    103          Pria   51              15983606                41       1   \n",
              "3    104          Pria   19              12704918                55       0   \n",
              "4    105        Wanita   38              20081967                42       1   \n",
              "..   ...           ...  ...                   ...               ...     ...   \n",
              "195  296          Pria   31               4098360                73       1   \n",
              "196  297          Pria   57              15983606                51       1   \n",
              "197  298        Wanita   35              43032786                79       1   \n",
              "198  299        Wanita   23               1229508                94       1   \n",
              "199  300          Pria   50               1639344                14       1   \n",
              "\n",
              "          Kota  Promo HariFav  FavFlavor  \n",
              "0      Jakarta    1.0   Sabtu          2  \n",
              "1        Depok    1.0  Minggu          6  \n",
              "2      Jakarta    2.0  Minggu          3  \n",
              "3      Jakarta    1.0    Rabu          7  \n",
              "4      Jakarta    2.0   Senin          8  \n",
              "..         ...    ...     ...        ...  \n",
              "195      Depok    1.0   Senin          0  \n",
              "196    Jakarta    1.0  Minggu          5  \n",
              "197      Depok    1.0   Senin          7  \n",
              "198      Depok    0.0  Selasa          0  \n",
              "199  Tangerang    3.0  Minggu          6  \n",
              "\n",
              "[200 rows x 10 columns]"
            ],
            "text/html": [
              "\n",
              "  <div id=\"df-d2bea88c-39b1-4e9e-86a6-26cecfcf4b7e\">\n",
              "    <div class=\"colab-df-container\">\n",
              "      <div>\n",
              "<style scoped>\n",
              "    .dataframe tbody tr th:only-of-type {\n",
              "        vertical-align: middle;\n",
              "    }\n",
              "\n",
              "    .dataframe tbody tr th {\n",
              "        vertical-align: top;\n",
              "    }\n",
              "\n",
              "    .dataframe thead th {\n",
              "        text-align: right;\n",
              "    }\n",
              "</style>\n",
              "<table border=\"1\" class=\"dataframe\">\n",
              "  <thead>\n",
              "    <tr style=\"text-align: right;\">\n",
              "      <th></th>\n",
              "      <th>ID</th>\n",
              "      <th>Jenis Kelamin</th>\n",
              "      <th>Umur</th>\n",
              "      <th>Pendapatan-per-bulan</th>\n",
              "      <th>skor-pengeluaran</th>\n",
              "      <th>Menikah</th>\n",
              "      <th>Kota</th>\n",
              "      <th>Promo</th>\n",
              "      <th>HariFav</th>\n",
              "      <th>FavFlavor</th>\n",
              "    </tr>\n",
              "  </thead>\n",
              "  <tbody>\n",
              "    <tr>\n",
              "      <th>0</th>\n",
              "      <td>101</td>\n",
              "      <td>Wanita</td>\n",
              "      <td>49</td>\n",
              "      <td>13114754</td>\n",
              "      <td>52</td>\n",
              "      <td>1</td>\n",
              "      <td>Jakarta</td>\n",
              "      <td>1.0</td>\n",
              "      <td>Sabtu</td>\n",
              "      <td>2</td>\n",
              "    </tr>\n",
              "    <tr>\n",
              "      <th>1</th>\n",
              "      <td>102</td>\n",
              "      <td>Wanita</td>\n",
              "      <td>32</td>\n",
              "      <td>33606557</td>\n",
              "      <td>86</td>\n",
              "      <td>1</td>\n",
              "      <td>Depok</td>\n",
              "      <td>1.0</td>\n",
              "      <td>Minggu</td>\n",
              "      <td>6</td>\n",
              "    </tr>\n",
              "    <tr>\n",
              "      <th>2</th>\n",
              "      <td>103</td>\n",
              "      <td>Pria</td>\n",
              "      <td>51</td>\n",
              "      <td>15983606</td>\n",
              "      <td>41</td>\n",
              "      <td>1</td>\n",
              "      <td>Jakarta</td>\n",
              "      <td>2.0</td>\n",
              "      <td>Minggu</td>\n",
              "      <td>3</td>\n",
              "    </tr>\n",
              "    <tr>\n",
              "      <th>3</th>\n",
              "      <td>104</td>\n",
              "      <td>Pria</td>\n",
              "      <td>19</td>\n",
              "      <td>12704918</td>\n",
              "      <td>55</td>\n",
              "      <td>0</td>\n",
              "      <td>Jakarta</td>\n",
              "      <td>1.0</td>\n",
              "      <td>Rabu</td>\n",
              "      <td>7</td>\n",
              "    </tr>\n",
              "    <tr>\n",
              "      <th>4</th>\n",
              "      <td>105</td>\n",
              "      <td>Wanita</td>\n",
              "      <td>38</td>\n",
              "      <td>20081967</td>\n",
              "      <td>42</td>\n",
              "      <td>1</td>\n",
              "      <td>Jakarta</td>\n",
              "      <td>2.0</td>\n",
              "      <td>Senin</td>\n",
              "      <td>8</td>\n",
              "    </tr>\n",
              "    <tr>\n",
              "      <th>...</th>\n",
              "      <td>...</td>\n",
              "      <td>...</td>\n",
              "      <td>...</td>\n",
              "      <td>...</td>\n",
              "      <td>...</td>\n",
              "      <td>...</td>\n",
              "      <td>...</td>\n",
              "      <td>...</td>\n",
              "      <td>...</td>\n",
              "      <td>...</td>\n",
              "    </tr>\n",
              "    <tr>\n",
              "      <th>195</th>\n",
              "      <td>296</td>\n",
              "      <td>Pria</td>\n",
              "      <td>31</td>\n",
              "      <td>4098360</td>\n",
              "      <td>73</td>\n",
              "      <td>1</td>\n",
              "      <td>Depok</td>\n",
              "      <td>1.0</td>\n",
              "      <td>Senin</td>\n",
              "      <td>0</td>\n",
              "    </tr>\n",
              "    <tr>\n",
              "      <th>196</th>\n",
              "      <td>297</td>\n",
              "      <td>Pria</td>\n",
              "      <td>57</td>\n",
              "      <td>15983606</td>\n",
              "      <td>51</td>\n",
              "      <td>1</td>\n",
              "      <td>Jakarta</td>\n",
              "      <td>1.0</td>\n",
              "      <td>Minggu</td>\n",
              "      <td>5</td>\n",
              "    </tr>\n",
              "    <tr>\n",
              "      <th>197</th>\n",
              "      <td>298</td>\n",
              "      <td>Wanita</td>\n",
              "      <td>35</td>\n",
              "      <td>43032786</td>\n",
              "      <td>79</td>\n",
              "      <td>1</td>\n",
              "      <td>Depok</td>\n",
              "      <td>1.0</td>\n",
              "      <td>Senin</td>\n",
              "      <td>7</td>\n",
              "    </tr>\n",
              "    <tr>\n",
              "      <th>198</th>\n",
              "      <td>299</td>\n",
              "      <td>Wanita</td>\n",
              "      <td>23</td>\n",
              "      <td>1229508</td>\n",
              "      <td>94</td>\n",
              "      <td>1</td>\n",
              "      <td>Depok</td>\n",
              "      <td>0.0</td>\n",
              "      <td>Selasa</td>\n",
              "      <td>0</td>\n",
              "    </tr>\n",
              "    <tr>\n",
              "      <th>199</th>\n",
              "      <td>300</td>\n",
              "      <td>Pria</td>\n",
              "      <td>50</td>\n",
              "      <td>1639344</td>\n",
              "      <td>14</td>\n",
              "      <td>1</td>\n",
              "      <td>Tangerang</td>\n",
              "      <td>3.0</td>\n",
              "      <td>Minggu</td>\n",
              "      <td>6</td>\n",
              "    </tr>\n",
              "  </tbody>\n",
              "</table>\n",
              "<p>200 rows × 10 columns</p>\n",
              "</div>\n",
              "      <button class=\"colab-df-convert\" onclick=\"convertToInteractive('df-d2bea88c-39b1-4e9e-86a6-26cecfcf4b7e')\"\n",
              "              title=\"Convert this dataframe to an interactive table.\"\n",
              "              style=\"display:none;\">\n",
              "        \n",
              "  <svg xmlns=\"http://www.w3.org/2000/svg\" height=\"24px\"viewBox=\"0 0 24 24\"\n",
              "       width=\"24px\">\n",
              "    <path d=\"M0 0h24v24H0V0z\" fill=\"none\"/>\n",
              "    <path d=\"M18.56 5.44l.94 2.06.94-2.06 2.06-.94-2.06-.94-.94-2.06-.94 2.06-2.06.94zm-11 1L8.5 8.5l.94-2.06 2.06-.94-2.06-.94L8.5 2.5l-.94 2.06-2.06.94zm10 10l.94 2.06.94-2.06 2.06-.94-2.06-.94-.94-2.06-.94 2.06-2.06.94z\"/><path d=\"M17.41 7.96l-1.37-1.37c-.4-.4-.92-.59-1.43-.59-.52 0-1.04.2-1.43.59L10.3 9.45l-7.72 7.72c-.78.78-.78 2.05 0 2.83L4 21.41c.39.39.9.59 1.41.59.51 0 1.02-.2 1.41-.59l7.78-7.78 2.81-2.81c.8-.78.8-2.07 0-2.86zM5.41 20L4 18.59l7.72-7.72 1.47 1.35L5.41 20z\"/>\n",
              "  </svg>\n",
              "      </button>\n",
              "      \n",
              "  <style>\n",
              "    .colab-df-container {\n",
              "      display:flex;\n",
              "      flex-wrap:wrap;\n",
              "      gap: 12px;\n",
              "    }\n",
              "\n",
              "    .colab-df-convert {\n",
              "      background-color: #E8F0FE;\n",
              "      border: none;\n",
              "      border-radius: 50%;\n",
              "      cursor: pointer;\n",
              "      display: none;\n",
              "      fill: #1967D2;\n",
              "      height: 32px;\n",
              "      padding: 0 0 0 0;\n",
              "      width: 32px;\n",
              "    }\n",
              "\n",
              "    .colab-df-convert:hover {\n",
              "      background-color: #E2EBFA;\n",
              "      box-shadow: 0px 1px 2px rgba(60, 64, 67, 0.3), 0px 1px 3px 1px rgba(60, 64, 67, 0.15);\n",
              "      fill: #174EA6;\n",
              "    }\n",
              "\n",
              "    [theme=dark] .colab-df-convert {\n",
              "      background-color: #3B4455;\n",
              "      fill: #D2E3FC;\n",
              "    }\n",
              "\n",
              "    [theme=dark] .colab-df-convert:hover {\n",
              "      background-color: #434B5C;\n",
              "      box-shadow: 0px 1px 3px 1px rgba(0, 0, 0, 0.15);\n",
              "      filter: drop-shadow(0px 1px 2px rgba(0, 0, 0, 0.3));\n",
              "      fill: #FFFFFF;\n",
              "    }\n",
              "  </style>\n",
              "\n",
              "      <script>\n",
              "        const buttonEl =\n",
              "          document.querySelector('#df-d2bea88c-39b1-4e9e-86a6-26cecfcf4b7e button.colab-df-convert');\n",
              "        buttonEl.style.display =\n",
              "          google.colab.kernel.accessAllowed ? 'block' : 'none';\n",
              "\n",
              "        async function convertToInteractive(key) {\n",
              "          const element = document.querySelector('#df-d2bea88c-39b1-4e9e-86a6-26cecfcf4b7e');\n",
              "          const dataTable =\n",
              "            await google.colab.kernel.invokeFunction('convertToInteractive',\n",
              "                                                     [key], {});\n",
              "          if (!dataTable) return;\n",
              "\n",
              "          const docLinkHtml = 'Like what you see? Visit the ' +\n",
              "            '<a target=\"_blank\" href=https://colab.research.google.com/notebooks/data_table.ipynb>data table notebook</a>'\n",
              "            + ' to learn more about interactive tables.';\n",
              "          element.innerHTML = '';\n",
              "          dataTable['output_type'] = 'display_data';\n",
              "          await google.colab.output.renderOutput(dataTable, element);\n",
              "          const docLink = document.createElement('div');\n",
              "          docLink.innerHTML = docLinkHtml;\n",
              "          element.appendChild(docLink);\n",
              "        }\n",
              "      </script>\n",
              "    </div>\n",
              "  </div>\n",
              "  "
            ]
          },
          "metadata": {},
          "execution_count": 15
        }
      ]
    },
    {
      "cell_type": "markdown",
      "source": [
        "Mengganti semua nilai yang kosong dengan angka nol di pandas dataframe."
      ],
      "metadata": {
        "id": "8eS5gBVZ3S60"
      }
    },
    {
      "cell_type": "markdown",
      "source": [
        "## Melihat tipe data dalam tabel Mixltup"
      ],
      "metadata": {
        "id": "IpfWW2Y00oRj"
      }
    },
    {
      "cell_type": "code",
      "source": [
        "# Tipe Datanya : DataFrame (df)\n",
        "print(type(data))\n",
        "# Ukuran Data\n",
        "N, P = data.shape\n",
        "'baris = ', N, ', Kolom = ', P"
      ],
      "metadata": {
        "colab": {
          "base_uri": "https://localhost:8080/"
        },
        "id": "9OstYvBF0x08",
        "outputId": "0a29c859-fb44-44fd-b5ad-5f81de660443"
      },
      "execution_count": null,
      "outputs": [
        {
          "output_type": "stream",
          "name": "stdout",
          "text": [
            "<class 'pandas.core.frame.DataFrame'>\n"
          ]
        },
        {
          "output_type": "execute_result",
          "data": {
            "text/plain": [
              "('baris = ', 200, ', Kolom = ', 10)"
            ]
          },
          "metadata": {},
          "execution_count": 16
        }
      ]
    },
    {
      "cell_type": "markdown",
      "source": [
        "Tipe data yang dimiliki adalah pa"
      ],
      "metadata": {
        "id": "mPIxuDrp4IDC"
      }
    },
    {
      "cell_type": "code",
      "source": [
        "data.dtypes"
      ],
      "metadata": {
        "colab": {
          "base_uri": "https://localhost:8080/"
        },
        "id": "XVhlc1BS01IK",
        "outputId": "8c2ab117-c808-4143-a5f1-d4e66d0360ee"
      },
      "execution_count": null,
      "outputs": [
        {
          "output_type": "execute_result",
          "data": {
            "text/plain": [
              "ID                        int64\n",
              "Jenis Kelamin            object\n",
              "Umur                     object\n",
              "Pendapatan-per-bulan      int64\n",
              "skor-pengeluaran          int64\n",
              "Menikah                  object\n",
              "Kota                     object\n",
              "Promo                   float64\n",
              "HariFav                  object\n",
              "FavFlavor                 int64\n",
              "dtype: object"
            ]
          },
          "metadata": {},
          "execution_count": 17
        }
      ]
    },
    {
      "cell_type": "markdown",
      "source": [
        "## Mengubah tipe data"
      ],
      "metadata": {
        "id": "1ePOt4ul1CZi"
      }
    },
    {
      "cell_type": "code",
      "source": [
        "data['Jenis Kelamin'] = data['Jenis Kelamin'].astype('category')\n",
        "data['Pendapatan-per-bulan'] = data['Pendapatan-per bulan'].astype('float64')\n",
        "data['Jenis Kelamin'] = data['Jenis Kelamin'].astype('category')\n",
        "data['Umur'] = data['Umur'].astype('int64')"
      ],
      "metadata": {
        "id": "uXcHNa7r04E9",
        "colab": {
          "base_uri": "https://localhost:8080/",
          "height": 502
        },
        "outputId": "ffe3ad24-b67e-4b15-81fd-6504c3626020"
      },
      "execution_count": null,
      "outputs": [
        {
          "output_type": "error",
          "ename": "KeyError",
          "evalue": "ignored",
          "traceback": [
            "\u001b[0;31m---------------------------------------------------------------------------\u001b[0m",
            "\u001b[0;31mKeyError\u001b[0m                                  Traceback (most recent call last)",
            "\u001b[0;32m/usr/local/lib/python3.7/dist-packages/pandas/core/indexes/base.py\u001b[0m in \u001b[0;36mget_loc\u001b[0;34m(self, key, method, tolerance)\u001b[0m\n\u001b[1;32m   3360\u001b[0m             \u001b[0;32mtry\u001b[0m\u001b[0;34m:\u001b[0m\u001b[0;34m\u001b[0m\u001b[0;34m\u001b[0m\u001b[0m\n\u001b[0;32m-> 3361\u001b[0;31m                 \u001b[0;32mreturn\u001b[0m \u001b[0mself\u001b[0m\u001b[0;34m.\u001b[0m\u001b[0m_engine\u001b[0m\u001b[0;34m.\u001b[0m\u001b[0mget_loc\u001b[0m\u001b[0;34m(\u001b[0m\u001b[0mcasted_key\u001b[0m\u001b[0;34m)\u001b[0m\u001b[0;34m\u001b[0m\u001b[0;34m\u001b[0m\u001b[0m\n\u001b[0m\u001b[1;32m   3362\u001b[0m             \u001b[0;32mexcept\u001b[0m \u001b[0mKeyError\u001b[0m \u001b[0;32mas\u001b[0m \u001b[0merr\u001b[0m\u001b[0;34m:\u001b[0m\u001b[0;34m\u001b[0m\u001b[0;34m\u001b[0m\u001b[0m\n",
            "\u001b[0;32m/usr/local/lib/python3.7/dist-packages/pandas/_libs/index.pyx\u001b[0m in \u001b[0;36mpandas._libs.index.IndexEngine.get_loc\u001b[0;34m()\u001b[0m\n",
            "\u001b[0;32m/usr/local/lib/python3.7/dist-packages/pandas/_libs/index.pyx\u001b[0m in \u001b[0;36mpandas._libs.index.IndexEngine.get_loc\u001b[0;34m()\u001b[0m\n",
            "\u001b[0;32mpandas/_libs/hashtable_class_helper.pxi\u001b[0m in \u001b[0;36mpandas._libs.hashtable.PyObjectHashTable.get_item\u001b[0;34m()\u001b[0m\n",
            "\u001b[0;32mpandas/_libs/hashtable_class_helper.pxi\u001b[0m in \u001b[0;36mpandas._libs.hashtable.PyObjectHashTable.get_item\u001b[0;34m()\u001b[0m\n",
            "\u001b[0;31mKeyError\u001b[0m: 'Pendapatan-per bulan'",
            "\nThe above exception was the direct cause of the following exception:\n",
            "\u001b[0;31mKeyError\u001b[0m                                  Traceback (most recent call last)",
            "\u001b[0;32m<ipython-input-24-9aa95287fbd8>\u001b[0m in \u001b[0;36m<module>\u001b[0;34m\u001b[0m\n\u001b[1;32m      1\u001b[0m \u001b[0mdata\u001b[0m\u001b[0;34m[\u001b[0m\u001b[0;34m'Jenis Kelamin'\u001b[0m\u001b[0;34m]\u001b[0m \u001b[0;34m=\u001b[0m \u001b[0mdata\u001b[0m\u001b[0;34m[\u001b[0m\u001b[0;34m'Jenis Kelamin'\u001b[0m\u001b[0;34m]\u001b[0m\u001b[0;34m.\u001b[0m\u001b[0mastype\u001b[0m\u001b[0;34m(\u001b[0m\u001b[0;34m'category'\u001b[0m\u001b[0;34m)\u001b[0m\u001b[0;34m\u001b[0m\u001b[0;34m\u001b[0m\u001b[0m\n\u001b[0;32m----> 2\u001b[0;31m \u001b[0mdata\u001b[0m\u001b[0;34m[\u001b[0m\u001b[0;34m'Pendapatan-per-bulan'\u001b[0m\u001b[0;34m]\u001b[0m \u001b[0;34m=\u001b[0m \u001b[0mdata\u001b[0m\u001b[0;34m[\u001b[0m\u001b[0;34m'Pendapatan-per bulan'\u001b[0m\u001b[0;34m]\u001b[0m\u001b[0;34m.\u001b[0m\u001b[0mastype\u001b[0m\u001b[0;34m(\u001b[0m\u001b[0;34m'float64'\u001b[0m\u001b[0;34m)\u001b[0m\u001b[0;34m\u001b[0m\u001b[0;34m\u001b[0m\u001b[0m\n\u001b[0m\u001b[1;32m      3\u001b[0m \u001b[0mdata\u001b[0m\u001b[0;34m[\u001b[0m\u001b[0;34m'Jenis Kelamin'\u001b[0m\u001b[0;34m]\u001b[0m \u001b[0;34m=\u001b[0m \u001b[0mdata\u001b[0m\u001b[0;34m[\u001b[0m\u001b[0;34m'Jenis Kelamin'\u001b[0m\u001b[0;34m]\u001b[0m\u001b[0;34m.\u001b[0m\u001b[0mastype\u001b[0m\u001b[0;34m(\u001b[0m\u001b[0;34m'category'\u001b[0m\u001b[0;34m)\u001b[0m\u001b[0;34m\u001b[0m\u001b[0;34m\u001b[0m\u001b[0m\n\u001b[1;32m      4\u001b[0m \u001b[0mdata\u001b[0m\u001b[0;34m[\u001b[0m\u001b[0;34m'Umur'\u001b[0m\u001b[0;34m]\u001b[0m \u001b[0;34m=\u001b[0m \u001b[0mdata\u001b[0m\u001b[0;34m[\u001b[0m\u001b[0;34m'Umur'\u001b[0m\u001b[0;34m]\u001b[0m\u001b[0;34m.\u001b[0m\u001b[0mastype\u001b[0m\u001b[0;34m(\u001b[0m\u001b[0;34m'int64'\u001b[0m\u001b[0;34m)\u001b[0m\u001b[0;34m\u001b[0m\u001b[0;34m\u001b[0m\u001b[0m\n",
            "\u001b[0;32m/usr/local/lib/python3.7/dist-packages/pandas/core/frame.py\u001b[0m in \u001b[0;36m__getitem__\u001b[0;34m(self, key)\u001b[0m\n\u001b[1;32m   3456\u001b[0m             \u001b[0;32mif\u001b[0m \u001b[0mself\u001b[0m\u001b[0;34m.\u001b[0m\u001b[0mcolumns\u001b[0m\u001b[0;34m.\u001b[0m\u001b[0mnlevels\u001b[0m \u001b[0;34m>\u001b[0m \u001b[0;36m1\u001b[0m\u001b[0;34m:\u001b[0m\u001b[0;34m\u001b[0m\u001b[0;34m\u001b[0m\u001b[0m\n\u001b[1;32m   3457\u001b[0m                 \u001b[0;32mreturn\u001b[0m \u001b[0mself\u001b[0m\u001b[0;34m.\u001b[0m\u001b[0m_getitem_multilevel\u001b[0m\u001b[0;34m(\u001b[0m\u001b[0mkey\u001b[0m\u001b[0;34m)\u001b[0m\u001b[0;34m\u001b[0m\u001b[0;34m\u001b[0m\u001b[0m\n\u001b[0;32m-> 3458\u001b[0;31m             \u001b[0mindexer\u001b[0m \u001b[0;34m=\u001b[0m \u001b[0mself\u001b[0m\u001b[0;34m.\u001b[0m\u001b[0mcolumns\u001b[0m\u001b[0;34m.\u001b[0m\u001b[0mget_loc\u001b[0m\u001b[0;34m(\u001b[0m\u001b[0mkey\u001b[0m\u001b[0;34m)\u001b[0m\u001b[0;34m\u001b[0m\u001b[0;34m\u001b[0m\u001b[0m\n\u001b[0m\u001b[1;32m   3459\u001b[0m             \u001b[0;32mif\u001b[0m \u001b[0mis_integer\u001b[0m\u001b[0;34m(\u001b[0m\u001b[0mindexer\u001b[0m\u001b[0;34m)\u001b[0m\u001b[0;34m:\u001b[0m\u001b[0;34m\u001b[0m\u001b[0;34m\u001b[0m\u001b[0m\n\u001b[1;32m   3460\u001b[0m                 \u001b[0mindexer\u001b[0m \u001b[0;34m=\u001b[0m \u001b[0;34m[\u001b[0m\u001b[0mindexer\u001b[0m\u001b[0;34m]\u001b[0m\u001b[0;34m\u001b[0m\u001b[0;34m\u001b[0m\u001b[0m\n",
            "\u001b[0;32m/usr/local/lib/python3.7/dist-packages/pandas/core/indexes/base.py\u001b[0m in \u001b[0;36mget_loc\u001b[0;34m(self, key, method, tolerance)\u001b[0m\n\u001b[1;32m   3361\u001b[0m                 \u001b[0;32mreturn\u001b[0m \u001b[0mself\u001b[0m\u001b[0;34m.\u001b[0m\u001b[0m_engine\u001b[0m\u001b[0;34m.\u001b[0m\u001b[0mget_loc\u001b[0m\u001b[0;34m(\u001b[0m\u001b[0mcasted_key\u001b[0m\u001b[0;34m)\u001b[0m\u001b[0;34m\u001b[0m\u001b[0;34m\u001b[0m\u001b[0m\n\u001b[1;32m   3362\u001b[0m             \u001b[0;32mexcept\u001b[0m \u001b[0mKeyError\u001b[0m \u001b[0;32mas\u001b[0m \u001b[0merr\u001b[0m\u001b[0;34m:\u001b[0m\u001b[0;34m\u001b[0m\u001b[0;34m\u001b[0m\u001b[0m\n\u001b[0;32m-> 3363\u001b[0;31m                 \u001b[0;32mraise\u001b[0m \u001b[0mKeyError\u001b[0m\u001b[0;34m(\u001b[0m\u001b[0mkey\u001b[0m\u001b[0;34m)\u001b[0m \u001b[0;32mfrom\u001b[0m \u001b[0merr\u001b[0m\u001b[0;34m\u001b[0m\u001b[0;34m\u001b[0m\u001b[0m\n\u001b[0m\u001b[1;32m   3364\u001b[0m \u001b[0;34m\u001b[0m\u001b[0m\n\u001b[1;32m   3365\u001b[0m         \u001b[0;32mif\u001b[0m \u001b[0mis_scalar\u001b[0m\u001b[0;34m(\u001b[0m\u001b[0mkey\u001b[0m\u001b[0;34m)\u001b[0m \u001b[0;32mand\u001b[0m \u001b[0misna\u001b[0m\u001b[0;34m(\u001b[0m\u001b[0mkey\u001b[0m\u001b[0;34m)\u001b[0m \u001b[0;32mand\u001b[0m \u001b[0;32mnot\u001b[0m \u001b[0mself\u001b[0m\u001b[0;34m.\u001b[0m\u001b[0mhasnans\u001b[0m\u001b[0;34m:\u001b[0m\u001b[0;34m\u001b[0m\u001b[0;34m\u001b[0m\u001b[0m\n",
            "\u001b[0;31mKeyError\u001b[0m: 'Pendapatan-per bulan'"
          ]
        }
      ]
    },
    {
      "cell_type": "code",
      "execution_count": null,
      "metadata": {
        "id": "4ZekNRRgt2jg"
      },
      "outputs": [],
      "source": [
        "# menghapus data yang tidak berguna\n",
        "data.drop(\"No\", axis=1, inplace=True)"
      ]
    },
    {
      "cell_type": "code",
      "execution_count": null,
      "metadata": {
        "id": "xOEiW4lEt5FZ"
      },
      "outputs": [],
      "source": [
        "# mengganti tipe data\n",
        "data.types"
      ]
    },
    {
      "cell_type": "code",
      "execution_count": null,
      "metadata": {
        "id": "xddkkc07t957"
      },
      "outputs": [],
      "source": [
        "# memeriksa duplikasi data\n",
        "print(data.shape)\n",
        "data.duplicated().sum()"
      ]
    },
    {
      "cell_type": "code",
      "execution_count": null,
      "metadata": {
        "id": "AymBJYCMuDMF"
      },
      "outputs": [],
      "source": [
        "#menghapus entri yang memiliki data duplikat\n",
        "data.drop_duplicates(inplace=True)\n",
        "print(data.duplicated().sum()) # tidak ada lagi duplikat\n",
        "print(data.shape) # mengecek kembali dengan print data.shape\n"
      ]
    },
    {
      "cell_type": "code",
      "execution_count": null,
      "metadata": {
        "id": "aSORWSeyuHZz"
      },
      "outputs": [],
      "source": [
        "# Memilih hanya variable dengan tipe tertentu\n",
        "data_num = data.select_dtypes(include = ['float64', 'int64'])\n",
        "data_num.head()\n",
        "# Perhatikan data_num adalah variable df baru! ... (hati-hati di data yang besar)\n"
      ]
    },
    {
      "cell_type": "code",
      "execution_count": null,
      "metadata": {
        "id": "Ss5a3eCguK3G"
      },
      "outputs": [],
      "source": [
        "# Memilih hanya variable dengan tipe tertentu\n",
        "data_cat = data.select_dtypes(include = ['category', 'datetime64', 'object'])\n",
        "data_cat.head()"
      ]
    },
    {
      "cell_type": "code",
      "execution_count": null,
      "metadata": {
        "id": "Hm8wkkyiuRv3"
      },
      "outputs": [],
      "source": [
        "df = pd.get_dummies(data['Kamar Tidur Pembantu'], prefix='rumah')\n",
        "df.head()"
      ]
    },
    {
      "cell_type": "code",
      "execution_count": null,
      "metadata": {
        "id": "eUpl7RE6uUSE"
      },
      "outputs": [],
      "source": [
        "df2 = pd.concat([data, df], axis = 1)\n",
        "df2.head().transpose()"
      ]
    },
    {
      "cell_type": "code",
      "execution_count": null,
      "metadata": {
        "id": "Zh1e6BDDuV8j"
      },
      "outputs": [],
      "source": [
        "# Memilih beberapa kolom secara manual\n",
        "X = data[['Harga_Juta','Luas Tanah','Luas Bangunan']] \n",
        "X[11:20]"
      ]
    },
    {
      "cell_type": "code",
      "execution_count": null,
      "metadata": {
        "id": "gdElEtn8uYW-"
      },
      "outputs": [],
      "source": [
        "# cek missing value\n",
        "gdcu.isnull().sum()\n",
        "\n",
        "sns.heatmap(data2.isnull(), cbar=False)\n",
        "plt.title('Heatmap Missing Value')\n",
        "plt.show()"
      ]
    },
    {
      "cell_type": "code",
      "execution_count": null,
      "metadata": {
        "id": "-hH9IpKluczJ"
      },
      "outputs": [],
      "source": [
        "# menghapus missing value\n",
        "gdcu.drop('floor_count', axis = 1,inplace = True)\n",
        "gdcu.isnull().sum()"
      ]
    },
    {
      "cell_type": "code",
      "execution_count": null,
      "metadata": {
        "id": "AY5LbrdruiZT"
      },
      "outputs": [],
      "source": [
        "# outlier\n",
        "\n",
        "#outlier pada kolom wind_speed\n",
        "# Deteksi Outlier menggunakan nilai IQR\n",
        "\n",
        "Q1 = gdcu.wind_speed.quantile(0.25)\n",
        "Q3 = gdcu.wind_speed.quantile(0.75)\n",
        "IQR = Q3 - Q1\n",
        "print('Q1 =', Q1)\n",
        "print('Q2 =', Q3)\n",
        "print('IQR =', IQR)"
      ]
    },
    {
      "cell_type": "code",
      "execution_count": null,
      "metadata": {
        "id": "pLetB5flujur"
      },
      "outputs": [],
      "source": [
        "# Menentukan batas bawah dan batas atas\n",
        "\n",
        "batasBawah = Q1 - (1.5 * IQR)\n",
        "batasAtas = Q3 + (1.5 * IQR)\n",
        "print('batas bawah =', batasBawah)\n",
        "print('batas atas =', batasAtas)"
      ]
    },
    {
      "cell_type": "code",
      "execution_count": null,
      "metadata": {
        "id": "q5CIO6jdupvZ"
      },
      "outputs": [],
      "source": [
        "#Mengecek outlier menggunakan visualisasi boxplot\n",
        "fig, ax = plt.subplots(figsize = (15,4))\n",
        "sns.boxplot(x = gdcu.wind_speed).set_title('Wind Speed Boxplot')"
      ]
    },
    {
      "cell_type": "code",
      "execution_count": null,
      "metadata": {
        "id": "cQveI2rBuren"
      },
      "outputs": [],
      "source": [
        "# Deteksi Outlier menggunakan nilai IQR\n",
        "Q1 = gdcu.wind_speed.quantile(0.25)\n",
        "Q3 = gdcu.wind_speed.quantile(0.75)\n",
        "IQR = Q3 - Q1\n",
        "print('Q1 =', Q1)\n",
        "print('Q2 =', Q3)\n",
        "print('IQR =', IQR)"
      ]
    },
    {
      "cell_type": "code",
      "execution_count": null,
      "metadata": {
        "id": "Ou-4xWzduuzV"
      },
      "outputs": [],
      "source": [
        "# Menentukan batas bawah dan batas atas\n",
        "\n",
        "batasBawah = Q1 - (1.5 * IQR)\n",
        "batasAtas = Q3 + (1.5 * IQR)\n",
        "print('batas bawah =', batasBawah)\n",
        "print('batas atas =', batasAtas)"
      ]
    },
    {
      "cell_type": "code",
      "execution_count": null,
      "metadata": {
        "id": "0basYPO8uyRJ"
      },
      "outputs": [],
      "source": [
        "# handle outlier dengan replace menggantinya dengan nilai mean\n",
        "\n",
        "gdcu['wind_speed'] = gdcu.wind_speed.mask(gdcu.wind_speed > batasAtas, gdcu.wind_speed.mean())\n",
        "gdcu['wind_speed'] = gdcu.wind_speed.mask(gdcu.wind_speed < batasBawah, gdcu.wind_speed.mean())\n",
        "fig, ax = plt.subplots(figsize = (15,7))\n",
        "fig = sns.boxplot(x = gdcu.wind_speed).set_title('Wind Speed Boxplot')"
      ]
    },
    {
      "cell_type": "code",
      "execution_count": null,
      "metadata": {
        "id": "uLTAcbSXu45i"
      },
      "outputs": [],
      "source": [
        "data.info()"
      ]
    },
    {
      "cell_type": "code",
      "execution_count": null,
      "metadata": {
        "id": "zTFX21RDu_LH"
      },
      "outputs": [],
      "source": [
        "# menghapus kolom tidak penting\n",
        "data.drop(columns=['Unnamed: 14', 'Unnamed: 15', 'Unnamed: 16', 'Unnamed: 17'], axis = 1, inplace = True)"
      ]
    },
    {
      "cell_type": "code",
      "execution_count": null,
      "metadata": {
        "id": "JT4cA6p6vV60"
      },
      "outputs": [],
      "source": [
        "data.dtypes"
      ]
    },
    {
      "cell_type": "code",
      "execution_count": null,
      "metadata": {
        "id": "Kw4RuUpWvZc5"
      },
      "outputs": [],
      "source": [
        "## Mengubah tipe data yang diperlukan\n",
        "data['LT'] = data['LT'].astype('float64')"
      ]
    },
    {
      "cell_type": "code",
      "execution_count": null,
      "metadata": {
        "id": "gdYFOmlkvmtj"
      },
      "outputs": [],
      "source": [
        "print(data.shape)\n",
        "data.duplicated().sum()"
      ]
    }
  ],
  "metadata": {
    "colab": {
      "collapsed_sections": [],
      "provenance": [],
      "include_colab_link": true
    },
    "kernelspec": {
      "display_name": "Python 3",
      "name": "python3"
    },
    "language_info": {
      "name": "python"
    }
  },
  "nbformat": 4,
  "nbformat_minor": 0
}